{
 "cells": [
  {
   "cell_type": "markdown",
   "id": "86b96a5d-02da-4bbd-9b81-2406de01523c",
   "metadata": {},
   "source": [
    "**8.1** Least squares: The folder ElectionsEconomy contains the data for the example in Section 7.1.\n",
    "Load these data, type in the **R** function **rss()** from page 104, and evaluate it at several different\n",
    "values of (*a*, *b*). Make two graphs: a plot of the sum of squares of residuals as a function of *a*,\n",
    "with *b* fixed at its least squares estimate given in Section 7.1, and a plot of the sum of squares of\n",
    "residuals as a function of *b*, with *a* fixed at its least squares estimate. Confirm that the residual\n",
    "sum of squares is indeed minimized at the least squares estimate."
   ]
  },
  {
   "cell_type": "code",
   "execution_count": 1,
   "id": "43756b38-22c6-494b-a272-1a8eb26d3eca",
   "metadata": {},
   "outputs": [],
   "source": [
    "import numpy as np\n",
    "import pandas as pd\n",
    "import matplotlib.pyplot as plt\n",
    "import scipy.stats as st\n",
    "import scipy.optimize"
   ]
  },
  {
   "cell_type": "code",
   "execution_count": 2,
   "id": "043ef203-2266-4d76-8863-7e906c520bc3",
   "metadata": {},
   "outputs": [],
   "source": [
    "hibbs = pd.read_csv('hibbs.dat', sep=' ')\n",
    "x, y = hibbs['growth'].values, hibbs['vote'].values"
   ]
  },
  {
   "cell_type": "code",
   "execution_count": 3,
   "id": "eeac1fc5-c68b-45f2-829d-bcba2d333905",
   "metadata": {},
   "outputs": [],
   "source": [
    "def resid(theta, x, y):\n",
    "    return y - (theta[0] + theta[1]*x)"
   ]
  },
  {
   "cell_type": "code",
   "execution_count": 4,
   "id": "9587f3e6-86ea-424c-a948-471fd07f895a",
   "metadata": {},
   "outputs": [],
   "source": [
    "ols = scipy.optimize.least_squares(resid, np.array([1, 1]), args=(x, y), bounds=([0, 0], [np.inf, np.inf]))"
   ]
  },
  {
   "cell_type": "code",
   "execution_count": 5,
   "id": "ae0b9cf7-b145-4a0c-8894-bf12bb3f3937",
   "metadata": {},
   "outputs": [
    {
     "data": {
      "text/plain": [
       "(array([46.24764806,  3.06052803]), 3.520233251276052)"
      ]
     },
     "execution_count": 5,
     "metadata": {},
     "output_type": "execute_result"
    }
   ],
   "source": [
    "# Compute residual sum of squares from optimal params\n",
    "rss_ols = np.sum(resid(ols.x, x, y)**2)\n",
    "\n",
    "# Compute OLS for sigma\n",
    "sigma_ols = np.sqrt(rss_ols / (len(y)))\n",
    "\n",
    "# Take a look\n",
    "ols.x, sigma_ols"
   ]
  },
  {
   "cell_type": "code",
   "execution_count": 6,
   "id": "787015c6-43d2-4f36-acb8-df044b0d63cb",
   "metadata": {},
   "outputs": [],
   "source": [
    "def rss(x, y, a, b):\n",
    "    resid = y - (a + b*x)\n",
    "    return np.sum(resid**2)"
   ]
  },
  {
   "cell_type": "code",
   "execution_count": 7,
   "id": "90a63616-d0f7-448a-a8fe-4e8f8047256c",
   "metadata": {},
   "outputs": [],
   "source": [
    "A = np.linspace(20, 80, 1000) # 1, 101,\n",
    "B = np.linspace(-10, 10, 1000) # -30, 30,\n",
    "rssa = [rss(hibbs['growth'].values, hibbs['vote'].values, a, 3.03) for a in A]\n",
    "rssb = [rss(hibbs['growth'].values, hibbs['vote'].values, 46.28, b) for b in B]"
   ]
  },
  {
   "cell_type": "code",
   "execution_count": 8,
   "id": "d5b14e0a-2d7e-4a45-bd68-5d9bb8195b7f",
   "metadata": {},
   "outputs": [
    {
     "data": {
      "image/png": "[encoded data removed]",
      "text/plain": [
       "<Figure size 720x360 with 2 Axes>"
      ]
     },
     "metadata": {
      "needs_background": "light"
     },
     "output_type": "display_data"
    }
   ],
   "source": [
    "fig, axes = plt.subplots(nrows=1, ncols=2, figsize=(10, 5))\n",
    "axes[0].plot(A, rssa, lw = 1)\n",
    "axes[0].set_xlabel('$a$')\n",
    "axes[0].set_ylabel('RSS')\n",
    "axes[1].plot(B, rssb, lw = 1)\n",
    "axes[1].set_xlabel('$b$')\n",
    "axes[1].set_ylabel('RSS')\n",
    "fig.tight_layout()"
   ]
  },
  {
   "cell_type": "code",
   "execution_count": 9,
   "id": "e21d3dde-5d1a-4fdb-8978-4c7d1404b754",
   "metadata": {},
   "outputs": [
    {
     "data": {
      "text/plain": [
       "(46.30630630630631, 3.0530530530530537)"
      ]
     },
     "execution_count": 9,
     "metadata": {},
     "output_type": "execute_result"
    }
   ],
   "source": [
    "A[np.argmin(rssa)], B[np.argmin(rssb)]"
   ]
  },
  {
   "cell_type": "markdown",
   "id": "d130e3c6-4573-4582-8e24-818c5e66ad2c",
   "metadata": {},
   "source": [
    "**8.2** Maximum likelihood: Repeat the previous exercise but this time write a function, similar to\n",
    "**rss()** on page 104, that computes the logarithm of the likelihood (8.6) as a function of the data\n",
    "and the parameters $a$, $b$, $\\sigma$. Evaluate this function as several values of these parameters, and\n",
    "make a plot demonstrating that it is maximized at the values computed from the formulas in the\n",
    "text (with $\\sigma$ computed using $\\frac{1}{n}$, not $\\frac{1}{n−2}$ ; see page 104)."
   ]
  },
  {
   "cell_type": "code",
   "execution_count": 10,
   "id": "d2f63096-3314-4163-a65a-5d76a93a1bc0",
   "metadata": {},
   "outputs": [],
   "source": [
    "import numdifftools as ndt"
   ]
  },
  {
   "cell_type": "code",
   "execution_count": 11,
   "id": "d2f7ff0c-e1d9-4e15-a748-04fc8d8c0096",
   "metadata": {},
   "outputs": [],
   "source": [
    "def neg_loglike(theta, x, y):\n",
    "    mu = theta[0] + theta[1] * x\n",
    "    return -1 * st.norm(mu, theta[2]).logpdf(y).sum()"
   ]
  },
  {
   "cell_type": "code",
   "execution_count": 12,
   "id": "ec05d918-3c0a-437b-ae22-0b2eaf379e81",
   "metadata": {},
   "outputs": [],
   "source": [
    "theta_start = np.array([1, 1, 1])\n",
    "mle = scipy.optimize.minimize(neg_loglike, theta_start, args=(x, y), method = 'Nelder-Mead')"
   ]
  },
  {
   "cell_type": "code",
   "execution_count": 13,
   "id": "57e7ef27-a77d-4698-9ba2-df8d21b5dd96",
   "metadata": {},
   "outputs": [
    {
     "name": "stdout",
     "output_type": "stream",
     "text": [
      "                Mean        st\n",
      "Intercept  46.247675  1.517177\n",
      "Slope       3.060525  0.651304\n",
      "Sigma       3.520231  0.622294\n"
     ]
    }
   ],
   "source": [
    "Hfun = ndt.Hessian(neg_loglike, full_output = True)\n",
    "hessian_ndt, info = Hfun(mle['x'], x, y)\n",
    "se = np.sqrt(np.diag(np.linalg.inv(hessian_ndt)))\n",
    "results = pd.DataFrame({'Mean': mle['x'],'st': se}, index = ['Intercept','Slope','Sigma'])\n",
    "print(results)"
   ]
  },
  {
   "cell_type": "markdown",
   "id": "7e3466c9-0bd3-48c6-9689-bab3a918f0a2",
   "metadata": {},
   "source": [
    "**8.3** Least absolute deviation: Repeat 8.1, but instead of calculating and minimizing the sum of\n",
    "squares of residuals, do this for the sum of absolute values of residuals. Find the ($a$, $b$) that\n",
    "minimizes the sum of absolute values of residuals, and plot the sum of absolute values of residuals\n",
    "as a function of $a$ and of $b$. Compare the least squares and least absolute deviation estimates of\n",
    "($a$, $b$)."
   ]
  },
  {
   "cell_type": "code",
   "execution_count": 14,
   "id": "99c00800-770b-47e0-8a75-4b74f9c106c2",
   "metadata": {},
   "outputs": [],
   "source": [
    "lad = scipy.optimize.least_squares(resid, np.array([1, 1]), loss = 'soft_l1', args=(x, y))"
   ]
  },
  {
   "cell_type": "code",
   "execution_count": 15,
   "id": "cf49b532-0c70-4c40-a83a-6fae61f9500c",
   "metadata": {},
   "outputs": [
    {
     "data": {
      "text/plain": [
       "array([45.97494969,  3.49747639])"
      ]
     },
     "execution_count": 15,
     "metadata": {},
     "output_type": "execute_result"
    }
   ],
   "source": [
    "lad.x"
   ]
  },
  {
   "cell_type": "code",
   "execution_count": null,
   "id": "6d20c95d-7e9c-42a6-a04f-d498050bd0c9",
   "metadata": {},
   "outputs": [],
   "source": []
  }
 ],
 "metadata": {
  "kernelspec": {
   "display_name": "Python 3 (ipykernel)",
   "language": "python",
   "name": "python3"
  },
  "language_info": {
   "codemirror_mode": {
    "name": "ipython",
    "version": 3
   },
   "file_extension": ".py",
   "mimetype": "text/x-python",
   "name": "python",
   "nbconvert_exporter": "python",
   "pygments_lexer": "ipython3",
   "version": "3.9.1"
  }
 },
 "nbformat": 4,
 "nbformat_minor": 5
}
