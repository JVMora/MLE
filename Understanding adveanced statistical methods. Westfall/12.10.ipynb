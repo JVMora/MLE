{
 "cells": [
  {
   "cell_type": "markdown",
   "id": "ac596034-aeef-456b-8235-93c96859fe77",
   "metadata": {},
   "source": [
    "**12.10** In the course of clinical trials, the data are blinded; that is, the researchers don’t know\n",
    "which data came from the treatment and which came from the control. This blinding\n",
    "is necessary to prevent experimenter bias. Still, you can sometimes glean information\n",
    "from the blinded data. The following data are blinded, but come from a clinical\n",
    "trial where roughly half of the observations are from the treatment group and\n",
    "roughly half are from the control group:"
   ]
  },
  {
   "cell_type": "code",
   "execution_count": 1,
   "id": "08b741ad-b448-406a-9d60-f767663db15b",
   "metadata": {},
   "outputs": [],
   "source": [
    "data = '12 19 22 16 21 14 19 13 17 21 20 17 14 18 20 21 20 11 14 19 21 19 22 15 11 15 19 16 \\\n",
    "14 17 12 20 17 21 17 23 19 15 15 20 15 12 23 20 21 19 21 21 14 13 18 21 12 22 19 17 \\\n",
    "21 22 10 21 12 14 22 14 16 16 23 13 20 12 16 16 13 16 20 10 16 23 18 18 15 12 23 21 \\\n",
    "15 18 21 22 17 18 20 15 16 21 19 21 24 13 20 19'"
   ]
  },
  {
   "cell_type": "markdown",
   "id": "946c279a-888c-427a-9ed5-6a2de3f7895f",
   "metadata": {},
   "source": [
    "An observation comes from one group with probability $0.5$ and the other with probability\n",
    "$0.5$, but you don’t know which group. Assume an $N(\\mu, exp(\\theta))$ distribution\n",
    "for one group and an $N(\\mu + \\delta , exp(\\theta))$ distribution for the other; then d is the differencedue to treatment.\n",
    "\n",
    "**A.** Using the pdf for each observation $p(y|\\mu, \\delta, \\theta) = 0.5 \\cdot N(y|\\mu, exp(\\theta)) +\n",
    "0.5 \\cdot N(y|\\mu + \\delta, exp(\\theta))$, estimate the parameters ($\\mu$, $\\delta$, $\\theta$) via maximum likelihood\n",
    "using an iterative method and the computer. Can you tell, just from the\n",
    "estimate of $\\delta$, whether the treatment made the data values generally higher or\n",
    "generally lower?"
   ]
  },
  {
   "cell_type": "code",
   "execution_count": 2,
   "id": "378ad2ea-1041-45c2-98e9-9885e93c04ca",
   "metadata": {},
   "outputs": [],
   "source": [
    "import numpy as np\n",
    "import matplotlib.pyplot as plt\n",
    "import scipy.optimize\n",
    "import scipy.stats as st\n",
    "import pandas as pd"
   ]
  },
  {
   "cell_type": "code",
   "execution_count": 3,
   "id": "72642088-42f3-41dd-88f0-2574647fd843",
   "metadata": {},
   "outputs": [],
   "source": [
    "data = list(map(int, data.split(' ')))"
   ]
  },
  {
   "cell_type": "code",
   "execution_count": 4,
   "id": "766d0b62-8b1d-4f4f-9acc-62b5d233dd5a",
   "metadata": {},
   "outputs": [
    {
     "data": {
      "image/png": "[encoded data removed]",
      "text/plain": [
       "<Figure size 432x288 with 1 Axes>"
      ]
     },
     "metadata": {
      "needs_background": "light"
     },
     "output_type": "display_data"
    }
   ],
   "source": [
    "plt.hist(data, bins = 10, facecolor = 'white', edgecolor = 'black');"
   ]
  },
  {
   "cell_type": "code",
   "execution_count": 5,
   "id": "95a28066-dcd4-44ee-88b9-4fea82d8e957",
   "metadata": {},
   "outputs": [],
   "source": [
    "def nllhood(params, y):\n",
    "    mu, sigma, delta = params\n",
    "    lhood = 0.5 * st.norm.pdf(y, mu, sigma) + 0.5 * st.norm.pdf(y, mu + delta, sigma)\n",
    "    return -np.sum(np.log(lhood))"
   ]
  },
  {
   "cell_type": "code",
   "execution_count": 6,
   "id": "6208b91d-669f-41e0-ba38-d8c3c0743c26",
   "metadata": {},
   "outputs": [],
   "source": [
    "params = [13, 2, 5]\n",
    "bounds = [[0, 100], [1, 100], [0, 100]]"
   ]
  },
  {
   "cell_type": "code",
   "execution_count": 7,
   "id": "f7973329-70ce-448d-aea1-5fcd66170028",
   "metadata": {},
   "outputs": [
    {
     "data": {
      "text/plain": [
       "      fun: 261.4603912203859\n",
       " hess_inv: <3x3 LbfgsInvHessProduct with dtype=float64>\n",
       "      jac: array([-1.13686828e-05,  5.68434192e-06,  0.00000000e+00])\n",
       "  message: 'CONVERGENCE: REL_REDUCTION_OF_F_<=_FACTR*EPSMCH'\n",
       "     nfev: 76\n",
       "      nit: 11\n",
       "     njev: 19\n",
       "   status: 0\n",
       "  success: True\n",
       "        x: array([14.2931219 ,  1.93564005,  5.95436744])"
      ]
     },
     "execution_count": 7,
     "metadata": {},
     "output_type": "execute_result"
    }
   ],
   "source": [
    "fit = scipy.optimize.minimize(nllhood, params, args = data, bounds = bounds)\n",
    "fit"
   ]
  },
  {
   "cell_type": "markdown",
   "id": "3953b146-4ce4-42d7-b753-e2bc67e797f7",
   "metadata": {},
   "source": [
    "**B.** Using statistical software that reports the Wald standard error, report the\n",
    "$95\\%$ range of plausible values of $\\delta$ , given the data. Can you tell whether there\n",
    "is a difference between the treatment and control? Can you tell whether the\n",
    "treatment made the data values generally higher or generally lower?"
   ]
  },
  {
   "cell_type": "code",
   "execution_count": 9,
   "id": "488dae7a-a1d3-4aa1-a013-86dee729903c",
   "metadata": {},
   "outputs": [],
   "source": [
    "std_errors = np.sqrt(np.diag(fit.hess_inv.todense()))"
   ]
  },
  {
   "cell_type": "code",
   "execution_count": 11,
   "id": "d2f8cc60-5fd1-46b0-a5a6-844e7ebbff41",
   "metadata": {},
   "outputs": [
    {
     "name": "stdout",
     "output_type": "stream",
     "text": [
      "             MLE  Std.Errors  LowerBound  UpperBound\n",
      "mu     14.293122    0.362483   13.582667   15.003576\n",
      "sigma   1.935640    0.175158    1.592337    2.278944\n",
      "δ       5.954367    0.420109    5.130969    6.777766\n"
     ]
    }
   ],
   "source": [
    "wald_table = pd.DataFrame({'MLE': fit.x, \n",
    "                           'Std.Errors': std_errors,\n",
    "                           'LowerBound': fit.x + st.norm.ppf(0.025) * std_errors,\n",
    "                           'UpperBound': fit.x + st.norm.ppf(0.975) * std_errors},\n",
    "                          index = [\"mu\",\"sigma\", \"δ\"])\n",
    "                          \n",
    "print(wald_table)"
   ]
  }
 ],
 "metadata": {
  "kernelspec": {
   "display_name": "Python 3 (ipykernel)",
   "language": "python",
   "name": "python3"
  },
  "language_info": {
   "codemirror_mode": {
    "name": "ipython",
    "version": 3
   },
   "file_extension": ".py",
   "mimetype": "text/x-python",
   "name": "python",
   "nbconvert_exporter": "python",
   "pygments_lexer": "ipython3",
   "version": "3.9.1"
  }
 },
 "nbformat": 4,
 "nbformat_minor": 5
}
